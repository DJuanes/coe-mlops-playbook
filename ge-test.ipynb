{
 "cells": [
  {
   "cell_type": "code",
   "execution_count": 1,
   "metadata": {},
   "outputs": [],
   "source": [
    "import great_expectations as ge\n",
    "import json\n",
    "import pandas as pd\n",
    "from urllib.request import urlopen"
   ]
  },
  {
   "cell_type": "markdown",
   "metadata": {},
   "source": [
    "# Load wine dataset"
   ]
  },
  {
   "cell_type": "code",
   "execution_count": 2,
   "metadata": {},
   "outputs": [
    {
     "name": "stderr",
     "output_type": "stream",
     "text": [
      "C:\\Users\\Diego\\AppData\\Roaming\\Python\\Python37\\site-packages\\ipykernel\\ipkernel.py:283: DeprecationWarning: `should_run_async` will not call `transform_cell` automatically in the future. Please pass the result to `transformed_cell` argument and any exception that happen during thetransform in `preprocessing_exc_tuple` in IPython 7.17 and above.\n",
      "  and should_run_async(code)\n"
     ]
    }
   ],
   "source": [
    "df_wine = pd.read_csv(\"https://raw.githubusercontent.com/DJuanes/coe-mlops-playbook/master/datasets/fake_news.csv\", sep=',')\n",
    "df_ge = ge.dataset.PandasDataset(df_wine)"
   ]
  },
  {
   "cell_type": "code",
   "execution_count": 3,
   "metadata": {},
   "outputs": [
    {
     "name": "stdout",
     "output_type": "stream",
     "text": [
      "20800 fake news\n"
     ]
    }
   ],
   "source": [
    "print (f\"{len(df_ge)} fake news\")"
   ]
  },
  {
   "cell_type": "code",
   "execution_count": 4,
   "metadata": {},
   "outputs": [
    {
     "data": {
      "text/html": [
       "<div>\n",
       "<style scoped>\n",
       "    .dataframe tbody tr th:only-of-type {\n",
       "        vertical-align: middle;\n",
       "    }\n",
       "\n",
       "    .dataframe tbody tr th {\n",
       "        vertical-align: top;\n",
       "    }\n",
       "\n",
       "    .dataframe thead th {\n",
       "        text-align: right;\n",
       "    }\n",
       "</style>\n",
       "<table border=\"1\" class=\"dataframe\">\n",
       "  <thead>\n",
       "    <tr style=\"text-align: right;\">\n",
       "      <th></th>\n",
       "      <th>id</th>\n",
       "      <th>title</th>\n",
       "      <th>author</th>\n",
       "      <th>text</th>\n",
       "      <th>label</th>\n",
       "    </tr>\n",
       "  </thead>\n",
       "  <tbody>\n",
       "    <tr>\n",
       "      <th>0</th>\n",
       "      <td>0</td>\n",
       "      <td>House Dem Aide: We Didn’t Even See Comey’s Let...</td>\n",
       "      <td>Darrell Lucus</td>\n",
       "      <td>House Dem Aide: We Didn’t Even See Comey’s Let...</td>\n",
       "      <td>1</td>\n",
       "    </tr>\n",
       "    <tr>\n",
       "      <th>1</th>\n",
       "      <td>1</td>\n",
       "      <td>FLYNN: Hillary Clinton, Big Woman on Campus - ...</td>\n",
       "      <td>Daniel J. Flynn</td>\n",
       "      <td>Ever get the feeling your life circles the rou...</td>\n",
       "      <td>0</td>\n",
       "    </tr>\n",
       "    <tr>\n",
       "      <th>2</th>\n",
       "      <td>2</td>\n",
       "      <td>Why the Truth Might Get You Fired</td>\n",
       "      <td>Consortiumnews.com</td>\n",
       "      <td>Why the Truth Might Get You Fired October 29, ...</td>\n",
       "      <td>1</td>\n",
       "    </tr>\n",
       "    <tr>\n",
       "      <th>3</th>\n",
       "      <td>3</td>\n",
       "      <td>15 Civilians Killed In Single US Airstrike Hav...</td>\n",
       "      <td>Jessica Purkiss</td>\n",
       "      <td>Videos 15 Civilians Killed In Single US Airstr...</td>\n",
       "      <td>1</td>\n",
       "    </tr>\n",
       "    <tr>\n",
       "      <th>4</th>\n",
       "      <td>4</td>\n",
       "      <td>Iranian woman jailed for fictional unpublished...</td>\n",
       "      <td>Howard Portnoy</td>\n",
       "      <td>Print \\nAn Iranian woman has been sentenced to...</td>\n",
       "      <td>1</td>\n",
       "    </tr>\n",
       "  </tbody>\n",
       "</table>\n",
       "</div>"
      ],
      "text/plain": [
       "   id                                              title              author  \\\n",
       "0   0  House Dem Aide: We Didn’t Even See Comey’s Let...       Darrell Lucus   \n",
       "1   1  FLYNN: Hillary Clinton, Big Woman on Campus - ...     Daniel J. Flynn   \n",
       "2   2                  Why the Truth Might Get You Fired  Consortiumnews.com   \n",
       "3   3  15 Civilians Killed In Single US Airstrike Hav...     Jessica Purkiss   \n",
       "4   4  Iranian woman jailed for fictional unpublished...      Howard Portnoy   \n",
       "\n",
       "                                                text  label  \n",
       "0  House Dem Aide: We Didn’t Even See Comey’s Let...      1  \n",
       "1  Ever get the feeling your life circles the rou...      0  \n",
       "2  Why the Truth Might Get You Fired October 29, ...      1  \n",
       "3  Videos 15 Civilians Killed In Single US Airstr...      1  \n",
       "4  Print \\nAn Iranian woman has been sentenced to...      1  "
      ]
     },
     "execution_count": 4,
     "metadata": {},
     "output_type": "execute_result"
    }
   ],
   "source": [
    "df_ge.head(5)"
   ]
  },
  {
   "cell_type": "code",
   "execution_count": 5,
   "metadata": {},
   "outputs": [
    {
     "name": "stderr",
     "output_type": "stream",
     "text": [
      "C:\\Users\\Diego\\AppData\\Roaming\\Python\\Python37\\site-packages\\ipykernel\\ipkernel.py:283: DeprecationWarning: `should_run_async` will not call `transform_cell` automatically in the future. Please pass the result to `transformed_cell` argument and any exception that happen during thetransform in `preprocessing_exc_tuple` in IPython 7.17 and above.\n",
      "  and should_run_async(code)\n"
     ]
    },
    {
     "data": {
      "text/plain": [
       "{\n",
       "  \"result\": {\n",
       "    \"observed_value\": [\n",
       "      \"id\",\n",
       "      \"title\",\n",
       "      \"author\",\n",
       "      \"text\",\n",
       "      \"label\"\n",
       "    ]\n",
       "  },\n",
       "  \"success\": true,\n",
       "  \"meta\": {},\n",
       "  \"exception_info\": {\n",
       "    \"raised_exception\": false,\n",
       "    \"exception_traceback\": null,\n",
       "    \"exception_message\": null\n",
       "  }\n",
       "}"
      ]
     },
     "execution_count": 5,
     "metadata": {},
     "output_type": "execute_result"
    }
   ],
   "source": [
    "# Presence of specific features\n",
    "df_ge.expect_table_columns_to_match_ordered_list(\n",
    "    column_list=[\"id\", \"title\", \"author\", \"text\", \"label\"]\n",
    ")\n"
   ]
  },
  {
   "cell_type": "code",
   "execution_count": 7,
   "metadata": {},
   "outputs": [
    {
     "name": "stderr",
     "output_type": "stream",
     "text": [
      "C:\\Users\\Diego\\AppData\\Roaming\\Python\\Python37\\site-packages\\ipykernel\\ipkernel.py:283: DeprecationWarning: `should_run_async` will not call `transform_cell` automatically in the future. Please pass the result to `transformed_cell` argument and any exception that happen during thetransform in `preprocessing_exc_tuple` in IPython 7.17 and above.\n",
      "  and should_run_async(code)\n"
     ]
    },
    {
     "data": {
      "text/plain": [
       "{\n",
       "  \"result\": {\n",
       "    \"element_count\": 20800,\n",
       "    \"missing_count\": 0,\n",
       "    \"missing_percent\": 0.0,\n",
       "    \"unexpected_count\": 643,\n",
       "    \"unexpected_percent\": 3.0913461538461537,\n",
       "    \"unexpected_percent_total\": 3.0913461538461537,\n",
       "    \"unexpected_percent_nonmissing\": 3.0913461538461537,\n",
       "    \"partial_unexpected_list\": [\n",
       "      {\n",
       "        \"title\": null,\n",
       "        \"author\": \"Anonymous\"\n",
       "      },\n",
       "      {\n",
       "        \"title\": null,\n",
       "        \"author\": \"Anonymous\"\n",
       "      },\n",
       "      {\n",
       "        \"title\": \"What the Clintons Did to Haiti\",\n",
       "        \"author\": \"Nathan J. Robinson\"\n",
       "      },\n",
       "      {\n",
       "        \"title\": null,\n",
       "        \"author\": \"Raffie\"\n",
       "      },\n",
       "      {\n",
       "        \"title\": \"\\u2018Sunk Costs\\u2019: $58 Billion Wasted On Imaginary Weapons Since 1997\",\n",
       "        \"author\": null\n",
       "      },\n",
       "      {\n",
       "        \"title\": null,\n",
       "        \"author\": \"beersession\"\n",
       "      },\n",
       "      {\n",
       "        \"title\": \"115 Million Americans Killed In 30 Minutes\",\n",
       "        \"author\": \"Dave Hodges\"\n",
       "      },\n",
       "      {\n",
       "        \"title\": \"LesserOfTwoEvilism\",\n",
       "        \"author\": \"Anonymous\"\n",
       "      },\n",
       "      {\n",
       "        \"title\": \"Fighting Ghost Fascists While Aiding Real Ones\",\n",
       "        \"author\": \"Glen Ford\"\n",
       "      },\n",
       "      {\n",
       "        \"title\": \"Realities Faced by Black Canadians are a National Shame\",\n",
       "        \"author\": \"Anonymous\"\n",
       "      },\n",
       "      {\n",
       "        \"title\": \"What Does a Trump Victory Mean for Africa?\",\n",
       "        \"author\": \"Patrick Bond\"\n",
       "      },\n",
       "      {\n",
       "        \"title\": null,\n",
       "        \"author\": \"curriec\"\n",
       "      },\n",
       "      {\n",
       "        \"title\": \"Busted: Bill Recorded Telling Mistress To Deny That Clintons Helped Her Get A State Job\",\n",
       "        \"author\": null\n",
       "      },\n",
       "      {\n",
       "        \"title\": \"2,700-year-old Hebrew mention of Jerusalem found\",\n",
       "        \"author\": \"-NO AUTHOR-\"\n",
       "      },\n",
       "      {\n",
       "        \"title\": \"Green Party\\u2019s Margaret Flowers Challenges US Senate Debate in Maryland as Undemocratic\",\n",
       "        \"author\": \"Dr. Marsha Coleman-Adebayo\"\n",
       "      },\n",
       "      {\n",
       "        \"title\": null,\n",
       "        \"author\": \"Redlist Renegade\"\n",
       "      },\n",
       "      {\n",
       "        \"title\": \"Hillary Endorsed Donald Trump for President According to Wikileaks\",\n",
       "        \"author\": \"Dave Hodges\"\n",
       "      },\n",
       "      {\n",
       "        \"title\": null,\n",
       "        \"author\": \"Don Anthony Dillon\"\n",
       "      },\n",
       "      {\n",
       "        \"title\": null,\n",
       "        \"author\": \"Anonymous\"\n",
       "      },\n",
       "      {\n",
       "        \"title\": \"\\u041a\\u043e\\u043c\\u043f\\u0430\\u043d\\u0438\\u044f Alibaba \\u043e\\u0442\\u043a\\u0440\\u044b\\u043b\\u0430 \\u0432\\u0430\\u043a\\u0430\\u043d\\u0441\\u0438\\u044e \\u043a\\u043e\\u0442\\u0430\",\n",
       "        \"author\": null\n",
       "      }\n",
       "    ]\n",
       "  },\n",
       "  \"success\": false,\n",
       "  \"meta\": {},\n",
       "  \"exception_info\": {\n",
       "    \"raised_exception\": false,\n",
       "    \"exception_traceback\": null,\n",
       "    \"exception_message\": null\n",
       "  }\n",
       "}"
      ]
     },
     "execution_count": 7,
     "metadata": {},
     "output_type": "execute_result"
    }
   ],
   "source": [
    "# Unique combinations of features (detect data leaks!)\n",
    "df_ge.expect_compound_columns_to_be_unique(column_list=[\"title\", \"author\"])\n"
   ]
  }
 ],
 "metadata": {
  "kernelspec": {
   "display_name": "Python 3.7.8 64-bit",
   "language": "python",
   "name": "python3"
  },
  "language_info": {
   "codemirror_mode": {
    "name": "ipython",
    "version": 3
   },
   "file_extension": ".py",
   "mimetype": "text/x-python",
   "name": "python",
   "nbconvert_exporter": "python",
   "pygments_lexer": "ipython3",
   "version": "3.7.8"
  },
  "orig_nbformat": 4,
  "vscode": {
   "interpreter": {
    "hash": "0a54084e6b208ee8d1ce3989ffc20924477a5f55f5a43e22e699a6741623861e"
   }
  }
 },
 "nbformat": 4,
 "nbformat_minor": 2
}
